{
 "cells": [
  {
   "cell_type": "code",
   "execution_count": 2,
   "id": "ae9a79bb-9024-47bc-8fb3-ba8812322204",
   "metadata": {},
   "outputs": [
    {
     "name": "stdout",
     "output_type": "stream",
     "text": [
      "           seq_1  39  40  G  .  +\n",
      "0          seq_2  39  40  G  .  +\n",
      "1          seq_3  39  40  G  .  +\n",
      "2          seq_4  39  40  G  .  +\n",
      "3          seq_5  39  40  G  .  +\n",
      "4          seq_6  39  40  G  .  +\n",
      "...          ...  ..  .. .. .. ..\n",
      "42706  seq_42708  39  40  G  .  +\n",
      "42707  seq_42709  39  40  G  .  +\n",
      "42708  seq_42710  39  40  G  .  +\n",
      "42709  seq_42711  39  40  G  .  +\n",
      "42710  seq_42712  39  40  G  .  +\n",
      "\n",
      "[42711 rows x 6 columns]\n",
      "       seq_42713  21  22  20689  .  +\n",
      "0      seq_42714  21  22  20689  .  +\n",
      "1      seq_42715  21  22  20689  .  +\n",
      "2      seq_42716  21  22  20689  .  +\n",
      "3      seq_42717  21  22  20689  .  +\n",
      "4      seq_42718  21  22  20689  .  +\n",
      "...          ...  ..  ..    ... .. ..\n",
      "50552  seq_93266  21  22  20689  .  +\n",
      "50553  seq_93267  21  22  20689  .  +\n",
      "50554  seq_93268  21  22  20689  .  +\n",
      "50555  seq_93269  21  22  20689  .  +\n",
      "50556  seq_93270  21  22  20689  .  +\n",
      "\n",
      "[50557 rows x 6 columns]\n"
     ]
    }
   ],
   "source": [
    "import pandas as pd\n",
    "\n",
    "can_gt = pd.read_csv(\"C:\\\\Users\\\\NirLavi\\\\Desktop\\\\PhD\\\\Lab\\\\IL LAB\\\\O6Meg\\\\data\\\\exp2_randomers\\\\ROC-AUC\\\\can_ground_truth.bed\", sep = '\\t')\n",
    "mod_gt = pd.read_csv(\"C:\\\\Users\\\\NirLavi\\\\Desktop\\\\PhD\\\\Lab\\\\IL LAB\\\\O6Meg\\\\data\\\\exp2_randomers\\\\ROC-AUC\\\\mod_ground_truth.bed\", sep = '\\t')\n",
    "\n",
    "print(can_gt)\n",
    "print(mod_gt)"
   ]
  },
  {
   "cell_type": "code",
   "execution_count": 10,
   "id": "34938af6-5619-41b7-937e-6df280b61f50",
   "metadata": {},
   "outputs": [
    {
     "name": "stdout",
     "output_type": "stream",
     "text": [
      "       seq_42713  21  22  20689  .  +\n",
      "0      seq_42714  21  22  20689  .  +\n",
      "1      seq_42715  21  22  20689  .  +\n",
      "2      seq_42716  21  22  20689  .  +\n",
      "3      seq_42717  21  22  20689  .  +\n",
      "4      seq_42718  21  22  20689  .  +\n",
      "...          ...  ..  ..    ... .. ..\n",
      "50552  seq_93266  21  22  20689  .  +\n",
      "50553  seq_93267  21  22  20689  .  +\n",
      "50554  seq_93268  21  22  20689  .  +\n",
      "50555  seq_93269  21  22  20689  .  +\n",
      "50556  seq_93270  21  22  20689  .  +\n",
      "\n",
      "[50557 rows x 6 columns]\n"
     ]
    }
   ],
   "source": [
    "can_gt.iloc[:,3].replace(\"G\", \"A\", inplace=True)\n",
    "mod_gt.iloc[:,3].replace(\"G\", \"A\", inplace=True)\n",
    "\n",
    "print(mod_gt)"
   ]
  },
  {
   "cell_type": "code",
   "execution_count": 11,
   "id": "d63e5a3a-70aa-44c1-830e-116bc85230dd",
   "metadata": {},
   "outputs": [],
   "source": [
    "can_gt.to_csv(\"C:\\\\Users\\\\NirLavi\\\\Desktop\\\\PhD\\\\Lab\\\\IL LAB\\\\O6Meg\\\\data\\\\exp2_randomers\\\\alternative-training\\\\can_gt_A.bed\", sep='\\t', index=False, header=False)\n"
   ]
  },
  {
   "cell_type": "code",
   "execution_count": null,
   "id": "b1cab045-b801-4d91-8be9-5f4a8ba9e23b",
   "metadata": {},
   "outputs": [],
   "source": []
  }
 ],
 "metadata": {
  "kernelspec": {
   "display_name": "Python 3 (ipykernel)",
   "language": "python",
   "name": "python3"
  },
  "language_info": {
   "codemirror_mode": {
    "name": "ipython",
    "version": 3
   },
   "file_extension": ".py",
   "mimetype": "text/x-python",
   "name": "python",
   "nbconvert_exporter": "python",
   "pygments_lexer": "ipython3",
   "version": "3.11.7"
  }
 },
 "nbformat": 4,
 "nbformat_minor": 5
}
