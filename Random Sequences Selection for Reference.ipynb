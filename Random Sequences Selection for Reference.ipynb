{
 "cells": [
  {
   "cell_type": "markdown",
   "id": "323d11ee",
   "metadata": {},
   "source": [
    "# #Random Sequences Selection for Reference\n",
    "\n",
    "sequence: ATG AGT CTA 12xN G/(A) 12xN AC GCA CAC G\n",
    "N- random base, equal probability for each.\n",
    "\n",
    "We will read fastq files, and based on them and on the required sequence we will create a reference."
   ]
  },
  {
   "cell_type": "code",
   "execution_count": 1,
   "id": "87a77ebe",
   "metadata": {
    "scrolled": true
   },
   "outputs": [],
   "source": [
    "import pandas as pd\n",
    "import re\n",
    "\n",
    "ref = {\n",
    "    \"name\" : [],\n",
    "    \"sequence\" : []\n",
    "}\n",
    "\n",
    "ref_can_df = pd.DataFrame(ref) # a reference for the canonical reads\n",
    "ref_a_df = pd.DataFrame(ref) #a reference for the modified sequences in which the middle nucleotide is treated as A\n",
    "ref_g_df = pd.DataFrame(ref) #a reference for the modified sequences in which the middle nucleotide is treated as G\n",
    "ref_mod_df = pd.DataFrame(ref) # a try\n",
    "\n",
    "can_df = pd.read_csv('C:\\\\Users\\\\NirLavi\\\\Desktop\\\\PhD\\\\Lab\\\\IL LAB\\\\O6Meg\\\\data\\\\exp2_randomers\\\\alternative-training\\\\can_view.sam', sep ='\\t')\n",
    "mod_df = pd.read_csv('C:\\\\Users\\\\NirLavi\\\\Desktop\\\\PhD\\\\Lab\\\\IL LAB\\\\O6Meg\\\\data\\\\exp2_randomers\\\\alternative-training\\\\mod_view.sam', sep ='\\t')\n",
    "\n",
    "can_sequences = can_df.iloc[:,9]\n",
    "mod_sequences = mod_df.iloc[:,9]\n",
    "\n",
    "can_sequences = can_sequences.str.findall(\"TCATACTAG.............................................................GCAAGTGGA\")\n",
    "mod_sequences = mod_sequences.str.findall(\"ATGAGTCTA.........................ACGCACACG\")\n",
    "\n",
    "n = 1\n",
    "for i in range(0,len(can_sequences)):\n",
    "    for j in range(0,len(can_sequences[i])):\n",
    "        if can_sequences[i][j] != '':\n",
    "            name = \">seq_\" + str(n)\n",
    "            ref_can_df.loc[n] = [name, can_sequences[i][j][0:79]] #the canonical reads\n",
    "            n = n+1\n",
    "\n",
    "\n",
    "for i in range(0,len(mod_sequences)):\n",
    "    for j in range(0,len(mod_sequences[i])):\n",
    "        if mod_sequences[i][j] != '':\n",
    "            name = \">seq_\" + str(n)\n",
    "            ref_mod_df.loc[n] = [name, mod_sequences[i][j][0:43]]\n",
    "            #write A in the middle if you want to build a model that separates A from O6MeG. Otherwise write it as G.\n",
    "            ref_g_df.loc[n] = [name, mod_sequences[i][j][0:21] + 'G' + mod_sequences[i][j][22:43]]\n",
    "            ref_a_df.loc[n] = [name, mod_sequences[i][j][0:21] + 'A' + mod_sequences[i][j][22:43]]\n",
    "            n = n+1\n",
    "\n",
    "ref_can_df.to_csv(\"C:\\\\Users\\\\NirLavi\\\\Desktop\\\\PhD\\\\Lab\\\\IL LAB\\\\O6Meg\\\\data\\\\exp2_randomers\\\\draft\\\\ref_can.fa\", sep='\\n', index=False, header=False)\n",
    "ref_mod_df.to_csv(\"C:\\\\Users\\\\NirLavi\\\\Desktop\\\\PhD\\\\Lab\\\\IL LAB\\\\O6Meg\\\\data\\\\exp2_randomers\\\\draft\\\\ref_mod.fa\", sep='\\n', index=False, header=False)\n",
    "ref_g_df.to_csv(\"C:\\\\Users\\\\NirLavi\\\\Desktop\\\\PhD\\\\Lab\\\\IL LAB\\\\O6Meg\\\\data\\\\exp2_randomers\\\\draft\\\\ref_G.fa\", sep='\\n', index=False, header=False)\n",
    "ref_a_df.to_csv(\"C:\\\\Users\\\\NirLavi\\\\Desktop\\\\PhD\\\\Lab\\\\IL LAB\\\\O6Meg\\\\data\\\\exp2_randomers\\\\draft\\\\ref_A.fa\", sep='\\n', index=False, header=False)"
   ]
  },
  {
   "cell_type": "code",
   "execution_count": null,
   "id": "ed57cf51-d358-4679-8a86-2b936473f5d1",
   "metadata": {},
   "outputs": [],
   "source": []
  }
 ],
 "metadata": {
  "kernelspec": {
   "display_name": "Python 3 (ipykernel)",
   "language": "python",
   "name": "python3"
  },
  "language_info": {
   "codemirror_mode": {
    "name": "ipython",
    "version": 3
   },
   "file_extension": ".py",
   "mimetype": "text/x-python",
   "name": "python",
   "nbconvert_exporter": "python",
   "pygments_lexer": "ipython3",
   "version": "3.11.7"
  }
 },
 "nbformat": 4,
 "nbformat_minor": 5
}
