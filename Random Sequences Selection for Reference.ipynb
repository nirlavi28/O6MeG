{
 "cells": [
  {
   "cell_type": "markdown",
   "id": "323d11ee",
   "metadata": {},
   "source": [
    "# #Random Sequences Selection for Reference\n",
    "\n",
    "sequence: ATG AGT CTA 12xN G/(A) 12xN AC GCA CAC G\n",
    "N- random base, equal probability for each.\n",
    "\n",
    "We will read fastq files, and based on them and on the required sequence we will create a reference."
   ]
  },
  {
   "cell_type": "code",
   "execution_count": 10,
   "id": "87a77ebe",
   "metadata": {
    "scrolled": true
   },
   "outputs": [
    {
     "name": "stdout",
     "output_type": "stream",
     "text": [
      "0                                                        []\n",
      "1                                                        []\n",
      "2         [TCATACTAGAGGTGGTTATATCCTGCTAGCGGTCATCGCGTCACT...\n",
      "3                                                        []\n",
      "4                                                        []\n",
      "                                ...                        \n",
      "125190    [TCATACTAGGAGCAGTTTTCCGTTGTCGGCTAGATAAAGGCCTAT...\n",
      "125191                                                   []\n",
      "125192                                                   []\n",
      "125193                                                   []\n",
      "125194                                                   []\n",
      "Name: TGTTTATGTCACGTACTTGGTTCAGTTACGTATTGCTTGTCAGAGAGGTTCCACTTGCTCGACTCGCTCGAACGTGAAGCCAGCAATACGTGTTATGTCTACTTGGTTCAGATTACGTATTGCTAGCTCACGTGAGTCATACTAGAGCATGTGTTAATAACTATCCGCATTCTGCGGGTACATTTAAAGCGCCGAGTTCGACCTGGGCAAGTCAAACTCTCTGACAAGCAATCTGGT, Length: 125195, dtype: object\n",
      "0                                                    []\n",
      "1                                                    []\n",
      "2                                                    []\n",
      "3                                                    []\n",
      "4                                                    []\n",
      "                              ...                      \n",
      "166606    [ATGAGTCTAGCGGAACGGGGGATTTATGGTGTTGACGCACACG]\n",
      "166607                                               []\n",
      "166608                                               []\n",
      "166609                                               []\n",
      "166610                                               []\n",
      "Name: TGTTATGTTTGTTTCTTCGTTCAGTTACGTATTGCTAGCTCACGTGAGTCATACTAGCGCGCTGAGATGAGTCTAGTCGAAGATCACATCTGGCTTATAAACGCACACGCACTAGTCGCAAGTGAATCTTAGACTCATCTCAGCGCGCTAGTATGACTCCACGTGAGTCATACTAGCGCGCTGAGATGAGTCTAGTCGAAGATAAGATCTGGCTTATAAACGCACACGCACTAGTCACCAAGAACCTTAGACTCATCTCAGCGCGCTAGTATGACTTTCACGTAAGCTAGCAATCATA, Length: 166611, dtype: object\n",
      "             name                                           sequence\n",
      "1          >seq_1  TCATACTAGAGGTGGTTATATCCTGCTAGCGGTCATCGCATCACTA...\n",
      "2          >seq_2  TCATACTAGGTCTCCAGCCTAACGCAGATGGTCAGGTAGACGAACG...\n",
      "3          >seq_3  TCATACTAGGTGGCAAAACATTTTAATGCATCCAAGTCCAAGGACA...\n",
      "4          >seq_4  TCATACTAGTAGGCGGGGCCGGGGCCGCATATTAAAGATACCGCAA...\n",
      "5          >seq_5  TCATACTAGAACGCTCTCGCCCTAGTGCACGAGGGCGCTACTCTGA...\n",
      "...           ...                                                ...\n",
      "93420  >seq_93420        ATGAGTCTACGACGCGCGAAAATTCATGTTTGCGACGCACACG\n",
      "93421  >seq_93421        ATGAGTCTACGATGTAAGATCATGGTCGGGCTTTACGCACACG\n",
      "93422  >seq_93422        ATGAGTCTAAGATCACCGGGCATGGGGTACATGTACGCACACG\n",
      "93423  >seq_93423        ATGAGTCTAACGATCTGCCGGAATGGTTGTGACGACGCACACG\n",
      "93424  >seq_93424        ATGAGTCTAGCGGAACGGGGGATTTATGGTGTTGACGCACACG\n",
      "\n",
      "[93424 rows x 2 columns]\n"
     ]
    }
   ],
   "source": [
    "import pandas as pd\n",
    "import re\n",
    "\n",
    "ref = {\n",
    "    \"name\" : [],\n",
    "    \"sequence\" : []\n",
    "}\n",
    "\n",
    "ref_df = pd.DataFrame(ref)\n",
    "\n",
    "can_df = pd.read_csv('C:\\\\Users\\\\NirLavi\\\\Desktop\\\\PhD\\\\Lab\\\\IL LAB\\\\O6Meg\\\\data\\\\exp2_randomers\\\\alternative-training\\\\can_view.fastq', sep ='\\t')\n",
    "mod_df = pd.read_csv('C:\\\\Users\\\\NirLavi\\\\Desktop\\\\PhD\\\\Lab\\\\IL LAB\\\\O6Meg\\\\data\\\\exp2_randomers\\\\alternative-training\\\\mod_view.fastq', sep ='\\t')\n",
    "\n",
    "can_sequences = can_df.iloc[:,9]\n",
    "mod_sequences = mod_df.iloc[:,9]\n",
    "\n",
    "can_sequences = can_sequences.str.findall(\"TCATACTAG.............................................................GCAAGTGGA\")\n",
    "mod_sequences_A = mod_sequences.str.findall(\"ATGAGTCTA............A............ACGCACACG\")\n",
    "mod_sequences_G = mod_sequences.str.findall(\"ATGAGTCTA............G............ACGCACACG\")\n",
    "\n",
    "\n",
    "print(can_sequences)\n",
    "print(mod_sequences)\n",
    "\n",
    "n = 1\n",
    "for i in range(0,len(can_sequences)):\n",
    "    for j in range(0,len(can_sequences[i])):\n",
    "        if can_sequences[i][j] != '':\n",
    "            name = \">seq_\" + str(n)\n",
    "            ref_df.loc[n] = [name, can_sequences[i][j][0:39] + 'A' + can_sequences[i][j][40:79]]\n",
    "            n = n+1\n",
    "\n",
    "for i in range(0,len(mod_sequences)):\n",
    "    for j in range(0,len(mod_sequences[i])):\n",
    "        if mod_sequences[i][j] != '':\n",
    "            name = \">seq_\" + str(n)\n",
    "            ref_df.loc[n] = [name, mod_sequences[i][j][0:21] + 'A' + mod_sequences[i][j][22:43]]\n",
    "            n = n+1\n",
    "\n",
    "print(ref_df)\n",
    "\n"
   ]
  },
  {
   "cell_type": "code",
   "execution_count": 11,
   "id": "140ab5c3",
   "metadata": {},
   "outputs": [],
   "source": [
    "ref_df.to_csv(\"C:\\\\Users\\\\NirLavi\\\\Desktop\\\\PhD\\\\Lab\\\\IL LAB\\\\O6Meg\\\\data\\\\exp2_randomers\\\\alternative-training\\\\ref_A.fa\", sep='\\n', index=False, header=False)"
   ]
  }
 ],
 "metadata": {
  "kernelspec": {
   "display_name": "Python 3 (ipykernel)",
   "language": "python",
   "name": "python3"
  },
  "language_info": {
   "codemirror_mode": {
    "name": "ipython",
    "version": 3
   },
   "file_extension": ".py",
   "mimetype": "text/x-python",
   "name": "python",
   "nbconvert_exporter": "python",
   "pygments_lexer": "ipython3",
   "version": "3.11.7"
  }
 },
 "nbformat": 4,
 "nbformat_minor": 5
}
